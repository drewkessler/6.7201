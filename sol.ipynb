{
 "cells": [
  {
   "cell_type": "code",
   "execution_count": null,
   "metadata": {},
   "outputs": [],
   "source": [
    "\"\"\"\n",
    "We aim to find the best assignment of host cities for the NCAA\n",
    "tournament. We have a list of participating colleges and the distances\n",
    "between them. We want to optimize for distance traveled and for rankings.\n",
    "\"\"\""
   ]
  },
  {
   "cell_type": "code",
   "execution_count": null,
   "metadata": {},
   "outputs": [],
   "source": [
    "# importing libraries\n",
    "using CSV, DataFrames, JuMP, Gurobi;"
   ]
  },
  {
   "cell_type": "code",
   "execution_count": null,
   "metadata": {},
   "outputs": [],
   "source": [
    "# getting data\n",
    "\n",
    "distances = CSV.read(\"distances.csv\", DataFrame, header=false)\n",
    "\n",
    "# rankings, get last column\n",
    "rankings = CSV.read(\"rankings.csv\", DataFrame, header=true)[:,5]\n",
    "\n",
    "colleges_iter = 1:64"
   ]
  },
  {
   "cell_type": "code",
   "execution_count": null,
   "metadata": {},
   "outputs": [],
   "source": [
    "distances = Matrix(distances)\n",
    "rankings = Vector(rankings)"
   ]
  },
  {
   "cell_type": "code",
   "execution_count": null,
   "metadata": {},
   "outputs": [],
   "source": [
    "\"\"\"\n",
    "We compute normalized ranking scores as\n",
    "1 - (team rank) / (total number of teams)\n",
    "\"\"\"\n",
    "\n",
    "ranking_scores = 1 .- rankings ./ 64;\n",
    "\n",
    "\"\"\"\n",
    "We compute normalized distance scores as\n",
    "1 - (distance) / (maximum distance)\n",
    "\"\"\"\n",
    "\n",
    "distance_scores = 1 .- distances ./ maximum(distances);"
   ]
  },
  {
   "cell_type": "code",
   "execution_count": null,
   "metadata": {},
   "outputs": [],
   "source": [
    "# creating model and decision variables\n",
    "model = Model(Gurobi.Optimizer)\n",
    "# make it not print out all the iterations\n",
    "set_optimizer_attribute(model, \"OutputFlag\", 0)\n",
    "\n",
    "\n",
    "# s_ij = 1 if college i hosts college j, 0 otherwise\n",
    "@variable(model, s[colleges_iter, colleges_iter], Bin)\n",
    "\n"
   ]
  },
  {
   "cell_type": "code",
   "execution_count": null,
   "metadata": {},
   "outputs": [],
   "source": [
    "# defining objective function\n",
    "\n",
    "# weight we give to rankings\n",
    "RW = 0.5\n",
    "# weight we give to distances\n",
    "DW = 0.5\n",
    "\n",
    "@objective(model, Max, RW * sum(ranking_scores[i] * s[i,i] for i in colleges_iter) + DW * sum(distance_scores[i,j] * s[i,j] for i in colleges_iter, j in colleges_iter))"
   ]
  },
  {
   "cell_type": "code",
   "execution_count": null,
   "metadata": {},
   "outputs": [],
   "source": [
    "# defining constraints\n",
    "\n",
    "# each college can only go to one host\n",
    "@constraint(model, [j in colleges_iter], sum(s[i,j] for i in colleges_iter) == 1)\n",
    "\n",
    "# there are 8 host colleges\n",
    "@constraint(model, sum(s[i,i] for i in colleges_iter) == 8)\n",
    "\n",
    "# each hosting college hosts 8 colleges, including itself (only if s[i,i] = 1)\n",
    "@constraint(model, [i in colleges_iter], sum(s[i,j] for j in colleges_iter) == 8 * s[i,i])\n",
    "\n"
   ]
  },
  {
   "cell_type": "code",
   "execution_count": null,
   "metadata": {},
   "outputs": [],
   "source": [
    "optimize!(model)\n",
    "\n",
    "@show objective_value(model)"
   ]
  },
  {
   "cell_type": "code",
   "execution_count": null,
   "metadata": {},
   "outputs": [],
   "source": [
    "# printing host cities\n",
    "for i in colleges_iter\n",
    "    if value(s[i,i]) == 1\n",
    "        println(\"College \", i, \" is a host city.\")\n",
    "    end\n",
    "end"
   ]
  },
  {
   "cell_type": "code",
   "execution_count": null,
   "metadata": {},
   "outputs": [],
   "source": [
    "# now we test various values of RW and DW to see how the objective value changes and which cities are picked\n",
    "function test_RW_DW(RW, DW)\n",
    "    @objective(model, Max, RW * sum(ranking_scores[i] * s[i,i] for i in colleges_iter) + DW * sum(distance_scores[i,j] * s[i,j] for i in colleges_iter, j in colleges_iter))\n",
    "    optimize!(model)\n",
    "    println(\"RW = \", RW, \", DW = \", DW, \", objective value = \", objective_value(model))\n",
    "    # ranking score\n",
    "    println(\"Ranking score = \", sum(ranking_scores[i] * value(s[i,i]) for i in colleges_iter))\n",
    "    # distance score\n",
    "    println(\"Distance score = \", sum(distance_scores[i,j] * value(s[i,j]) for i in colleges_iter, j in colleges_iter))\n",
    "    for i in colleges_iter\n",
    "        if value(s[i,i]) == 1\n",
    "            println(\"College \", i, \" is a host city.\")\n",
    "        end\n",
    "    end\n",
    "end"
   ]
  },
  {
   "cell_type": "code",
   "execution_count": null,
   "metadata": {},
   "outputs": [],
   "source": [
    "for RW in 0:0.1:1\n",
    "    DW = 1 - RW\n",
    "    test_RW_DW(RW, DW)\n",
    "end"
   ]
  }
 ],
 "metadata": {
  "kernelspec": {
   "display_name": "Julia 1.9.3",
   "language": "julia",
   "name": "julia-1.9"
  },
  "language_info": {
   "file_extension": ".jl",
   "mimetype": "application/julia",
   "name": "julia",
   "version": "1.9.3"
  }
 },
 "nbformat": 4,
 "nbformat_minor": 2
}
